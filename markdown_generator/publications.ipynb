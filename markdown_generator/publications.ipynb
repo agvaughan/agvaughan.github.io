{
 "cells": [
  {
   "cell_type": "markdown",
   "metadata": {
    "deletable": true,
    "editable": true
   },
   "source": [
    "# Publications markdown generator for academicpages\n",
    "\n",
    "Takes a TSV of publications with metadata and converts them for use with [academicpages.github.io](academicpages.github.io). This is an interactive Jupyter notebook ([see more info here](http://jupyter-notebook-beginner-guide.readthedocs.io/en/latest/what_is_jupyter.html)). The core python code is also in `publications.py`. Run either from the `markdown_generator` folder after replacing `publications.tsv` with one containing your data.\n",
    "\n",
    "TODO: Make this work with BibTex and other databases of citations, rather than Stuart's non-standard TSV format and citation style.\n"
   ]
  },
  {
   "cell_type": "markdown",
   "metadata": {},
   "source": [
    "## Data format\n",
    "\n",
    "The TSV needs to have the following columns: pub_date, title, venue, excerpt, citation, site_url, and paper_url, with a header at the top. \n",
    "\n",
    "- `excerpt` and `paper_url` can be blank, but the others must have values. \n",
    "- `pub_date` must be formatted as YYYY-MM-DD.\n",
    "- `url_slug` will be the descriptive part of the .md file and the permalink URL for the page about the paper. The .md file will be `YYYY-MM-DD-[url_slug].md` and the permalink will be `https://[yourdomain]/publications/YYYY-MM-DD-[url_slug]`\n",
    "\n",
    "This is how the raw file looks (it doesn't look pretty, use a spreadsheet or other program to edit and create)."
   ]
  },
  {
   "cell_type": "code",
   "execution_count": 22,
   "metadata": {
    "collapsed": false,
    "jupyter": {
     "outputs_hidden": false
    }
   },
   "outputs": [
    {
     "name": "stdout",
     "output_type": "stream",
     "text": [
      "pub_date\ttitle\tcitation\tvenue\turl_slug\tpaper_url\n",
      "2021-01-01\tMixseq: mixture sequencing using compressed sensing for in-situ and in-vitro applications (2021)\tAM Zador, <b>AG Vaughan</b>\t<i>US Patent App. PCT/US2020/066,853</i>\tMixseq: mixture sequencing using compressed sensing for in-situ and in-vitro applications (Patent)\thttp://agvaughan.github.io/files/Vaughan_MIXSEQ_WO2021133911A1.pdf\n",
      "2021-01-01\tBarcode demixing through non-negative spatial regression (bardensr) (2021)\tS Chen, J Loper, X Chen, <b>AG Vaughan, AM Zador, L Paninski</b>\t<i>PLoS computational biology 17 (3), e1008256 5</i>\tBarcode demixing through non-negative spatial regression (bardensr)\thttp://agvaughan.github.io/files/Chen_Vaughan_Paninski.pdf\n",
      "2019-01-01\tFrontal cortex neuron types categorically encode single decision variables (2019)\tJ Hirokawa, <b>AG Vaughan, P Masset, T Ott, A Kepecs</b>\t<i>Nature 576 (7787), 446-451 75</i>\tFrontal cortex neuron types categorically encode single decision variables (Nature)\thttp://agvaughan.github.io/files/Hirokawa_Vaughan_2019.pdf\n",
      "2018-01-01\tA viral receptor complementation strategy to overcome CAV-2 tropism for efficient retrograde targeting of neurons (2018)\tSJ Li, <b>AG Vaughan, JF Sturgill, A Kepecs</b>\t<i>Neuron 98 (5), 905-917. e541</i>\tA viral receptor complementation strategy to overcome CAV-2 tropism for efficient retrograde targeting of neurons\thttp://agvaughan.github.io/files/Li_Vaughan_Sturgill_Kepecs_2018.pdf\n",
      "2017-01-01\tRapid and tunable method to temporally control gene editing based on conditional Cas9 stabilization (2017)\tS Senturk, NH Shirole, DG Nowak, V Corbo, D Pal, <b>AG Vaughan, ...</b>\t<i>Nature Communications 8 (1), 1-10 104</i>\tRapid and tunable method to temporally control gene editing based on conditional Cas9 stabilization\thttp://agvaughan.github.io/files/Senturk_2016.pdf\n",
      "2016-01-01\tA mechanosensory circuit that mixes opponent channels to produce selectivity for complex stimulus features (2016)\tAEB Chang, <b>AG Vaughan, RI Wilson</b>\t<i>Neuron 92 (4), 888-901 22</i>\tA mechanosensory circuit that mixes opponent channels to produce selectivity for complex stimulus features\thttp://agvaughan.github.io/files/Chang_Vaughan_Wilson_2016.pdf\n",
      "2015-01-01\tCentral neural circuitry mediating courtship song perception in male Drosophila (2015)\tC Zhou, R Franconville, <b>AG Vaughan, CC Robinett, V Jayaraman, ...</b>\t<i>Elife 4, e08477 68</i>\tCentral neural circuitry mediating courtship song perception in male Drosophila\thttp://agvaughan.github.io/files/Zhou_2016.pdf\n",
      "2014-01-01\tNeural pathways for the detection and discrimination of conspecific song in D. melanogaster (2014)\t<b>AG Vaughan, C Zhou, DS Manoli, BS Baker</b>\t<i>Current Biology 24 (10), 1039-1049 68</i>\tNeural pathways for the detection and discrimination of conspecific song in D. melanogaster\thttp://agvaughan.github.io/files/Vaughan_2014.pdf\n",
      "2010-01-01\tSex and the single cell. II. There is a time and place for sex (2010)\tCC Robinett, <b>AG Vaughan, JM Knapp, BS Baker</b>\t<i>PLoS biology 8 (5), e1000365 193</i>\tSex and the single cell. II. There is a time and place for sex\thttp://agvaughan.github.io/files/Robinett_Vaughan.pdf\n",
      "2009-01-01\tManipulation of an innate escape response in Drosophila: photoexcitation of acj6 neurons induces the escape response (2009)\tG Zimmermann, L Wang, <b>AG Vaughan, DS Manoli, F Zhang, K Deisseroth, ...</b>\t<i>PloS one 4 (4), e5100 27</i>\tManipulation of an innate escape response in Drosophila: photoexcitation of acj6 neurons induces the escape response\thttp://agvaughan.github.io/files/Zimmerman.pdf"
     ]
    }
   ],
   "source": [
    "!cat publications.tsv"
   ]
  },
  {
   "cell_type": "markdown",
   "metadata": {},
   "source": [
    "## Import pandas\n",
    "\n",
    "We are using the very handy pandas library for dataframes."
   ]
  },
  {
   "cell_type": "code",
   "execution_count": 24,
   "metadata": {
    "deletable": true,
    "editable": true,
    "tags": []
   },
   "outputs": [],
   "source": [
    "import pandas as pd"
   ]
  },
  {
   "cell_type": "markdown",
   "metadata": {},
   "source": [
    "## Import TSV\n",
    "\n",
    "Pandas makes this easy with the read_csv function. We are using a TSV, so we specify the separator as a tab, or `\\t`.\n",
    "\n",
    "I found it important to put this data in a tab-separated values format, because there are a lot of commas in this kind of data and comma-separated values can get messed up. However, you can modify the import statement, as pandas also has read_excel(), read_json(), and others."
   ]
  },
  {
   "cell_type": "code",
   "execution_count": 28,
   "metadata": {
    "collapsed": false,
    "deletable": true,
    "editable": true,
    "jupyter": {
     "outputs_hidden": false
    }
   },
   "outputs": [
    {
     "data": {
      "text/html": [
       "<div>\n",
       "<style scoped>\n",
       "    .dataframe tbody tr th:only-of-type {\n",
       "        vertical-align: middle;\n",
       "    }\n",
       "\n",
       "    .dataframe tbody tr th {\n",
       "        vertical-align: top;\n",
       "    }\n",
       "\n",
       "    .dataframe thead th {\n",
       "        text-align: right;\n",
       "    }\n",
       "</style>\n",
       "<table border=\"1\" class=\"dataframe\">\n",
       "  <thead>\n",
       "    <tr style=\"text-align: right;\">\n",
       "      <th></th>\n",
       "      <th>pub_date</th>\n",
       "      <th>title</th>\n",
       "      <th>citation</th>\n",
       "      <th>venue</th>\n",
       "      <th>url_slug</th>\n",
       "      <th>paper_url</th>\n",
       "    </tr>\n",
       "  </thead>\n",
       "  <tbody>\n",
       "    <tr>\n",
       "      <th>0</th>\n",
       "      <td>2021-01-01</td>\n",
       "      <td>Mixseq: mixture sequencing using compressed se...</td>\n",
       "      <td>AM Zador, &lt;b&gt;AG Vaughan&lt;/b&gt;</td>\n",
       "      <td>&lt;i&gt;US Patent App. PCT/US2020/066,853&lt;/i&gt;</td>\n",
       "      <td>Mixseq: mixture sequencing using compressed se...</td>\n",
       "      <td>http://agvaughan.github.io/files/Vaughan_MIXSE...</td>\n",
       "    </tr>\n",
       "    <tr>\n",
       "      <th>1</th>\n",
       "      <td>2021-01-01</td>\n",
       "      <td>Barcode demixing through non-negative spatial ...</td>\n",
       "      <td>S Chen, J Loper, X Chen, &lt;b&gt;AG Vaughan, AM Zad...</td>\n",
       "      <td>&lt;i&gt;PLoS computational biology 17 (3), e1008256...</td>\n",
       "      <td>Barcode demixing through non-negative spatial ...</td>\n",
       "      <td>http://agvaughan.github.io/files/Chen_Vaughan_...</td>\n",
       "    </tr>\n",
       "    <tr>\n",
       "      <th>2</th>\n",
       "      <td>2019-01-01</td>\n",
       "      <td>Frontal cortex neuron types categorically enco...</td>\n",
       "      <td>J Hirokawa, &lt;b&gt;AG Vaughan, P Masset, T Ott, A ...</td>\n",
       "      <td>&lt;i&gt;Nature 576 (7787), 446-451 75&lt;/i&gt;</td>\n",
       "      <td>Frontal cortex neuron types categorically enco...</td>\n",
       "      <td>http://agvaughan.github.io/files/Hirokawa_Vaug...</td>\n",
       "    </tr>\n",
       "    <tr>\n",
       "      <th>3</th>\n",
       "      <td>2018-01-01</td>\n",
       "      <td>A viral receptor complementation strategy to o...</td>\n",
       "      <td>SJ Li, &lt;b&gt;AG Vaughan, JF Sturgill, A Kepecs&lt;/b&gt;</td>\n",
       "      <td>&lt;i&gt;Neuron 98 (5), 905-917. e541&lt;/i&gt;</td>\n",
       "      <td>A viral receptor complementation strategy to o...</td>\n",
       "      <td>http://agvaughan.github.io/files/Li_Vaughan_St...</td>\n",
       "    </tr>\n",
       "    <tr>\n",
       "      <th>4</th>\n",
       "      <td>2017-01-01</td>\n",
       "      <td>Rapid and tunable method to temporally control...</td>\n",
       "      <td>S Senturk, NH Shirole, DG Nowak, V Corbo, D Pa...</td>\n",
       "      <td>&lt;i&gt;Nature Communications 8 (1), 1-10 104&lt;/i&gt;</td>\n",
       "      <td>Rapid and tunable method to temporally control...</td>\n",
       "      <td>http://agvaughan.github.io/files/Senturk_2016.pdf</td>\n",
       "    </tr>\n",
       "    <tr>\n",
       "      <th>5</th>\n",
       "      <td>2016-01-01</td>\n",
       "      <td>A mechanosensory circuit that mixes opponent c...</td>\n",
       "      <td>AEB Chang, &lt;b&gt;AG Vaughan, RI Wilson&lt;/b&gt;</td>\n",
       "      <td>&lt;i&gt;Neuron 92 (4), 888-901 22&lt;/i&gt;</td>\n",
       "      <td>A mechanosensory circuit that mixes opponent c...</td>\n",
       "      <td>http://agvaughan.github.io/files/Chang_Vaughan...</td>\n",
       "    </tr>\n",
       "    <tr>\n",
       "      <th>6</th>\n",
       "      <td>2015-01-01</td>\n",
       "      <td>Central neural circuitry mediating courtship s...</td>\n",
       "      <td>C Zhou, R Franconville, &lt;b&gt;AG Vaughan, CC Robi...</td>\n",
       "      <td>&lt;i&gt;Elife 4, e08477 68&lt;/i&gt;</td>\n",
       "      <td>Central neural circuitry mediating courtship s...</td>\n",
       "      <td>http://agvaughan.github.io/files/Zhou_2016.pdf</td>\n",
       "    </tr>\n",
       "    <tr>\n",
       "      <th>7</th>\n",
       "      <td>2014-01-01</td>\n",
       "      <td>Neural pathways for the detection and discrimi...</td>\n",
       "      <td>&lt;b&gt;AG Vaughan, C Zhou, DS Manoli, BS Baker&lt;/b&gt;</td>\n",
       "      <td>&lt;i&gt;Current Biology 24 (10), 1039-1049 68&lt;/i&gt;</td>\n",
       "      <td>Neural pathways for the detection and discrimi...</td>\n",
       "      <td>http://agvaughan.github.io/files/Vaughan_2014.pdf</td>\n",
       "    </tr>\n",
       "    <tr>\n",
       "      <th>8</th>\n",
       "      <td>2010-01-01</td>\n",
       "      <td>Sex and the single cell. II. There is a time a...</td>\n",
       "      <td>CC Robinett, &lt;b&gt;AG Vaughan, JM Knapp, BS Baker...</td>\n",
       "      <td>&lt;i&gt;PLoS biology 8 (5), e1000365 193&lt;/i&gt;</td>\n",
       "      <td>Sex and the single cell. II. There is a time a...</td>\n",
       "      <td>http://agvaughan.github.io/files/Robinett_Vaug...</td>\n",
       "    </tr>\n",
       "    <tr>\n",
       "      <th>9</th>\n",
       "      <td>2009-01-01</td>\n",
       "      <td>Manipulation of an innate escape response in D...</td>\n",
       "      <td>G Zimmermann, L Wang, &lt;b&gt;AG Vaughan, DS Manoli...</td>\n",
       "      <td>&lt;i&gt;PloS one 4 (4), e5100 27&lt;/i&gt;</td>\n",
       "      <td>Manipulation of an innate escape response in D...</td>\n",
       "      <td>http://agvaughan.github.io/files/Zimmerman.pdf</td>\n",
       "    </tr>\n",
       "  </tbody>\n",
       "</table>\n",
       "</div>"
      ],
      "text/plain": [
       "     pub_date                                              title  \\\n",
       "0  2021-01-01  Mixseq: mixture sequencing using compressed se...   \n",
       "1  2021-01-01  Barcode demixing through non-negative spatial ...   \n",
       "2  2019-01-01  Frontal cortex neuron types categorically enco...   \n",
       "3  2018-01-01  A viral receptor complementation strategy to o...   \n",
       "4  2017-01-01  Rapid and tunable method to temporally control...   \n",
       "5  2016-01-01  A mechanosensory circuit that mixes opponent c...   \n",
       "6  2015-01-01  Central neural circuitry mediating courtship s...   \n",
       "7  2014-01-01  Neural pathways for the detection and discrimi...   \n",
       "8  2010-01-01  Sex and the single cell. II. There is a time a...   \n",
       "9  2009-01-01  Manipulation of an innate escape response in D...   \n",
       "\n",
       "                                            citation  \\\n",
       "0                        AM Zador, <b>AG Vaughan</b>   \n",
       "1  S Chen, J Loper, X Chen, <b>AG Vaughan, AM Zad...   \n",
       "2  J Hirokawa, <b>AG Vaughan, P Masset, T Ott, A ...   \n",
       "3    SJ Li, <b>AG Vaughan, JF Sturgill, A Kepecs</b>   \n",
       "4  S Senturk, NH Shirole, DG Nowak, V Corbo, D Pa...   \n",
       "5            AEB Chang, <b>AG Vaughan, RI Wilson</b>   \n",
       "6  C Zhou, R Franconville, <b>AG Vaughan, CC Robi...   \n",
       "7     <b>AG Vaughan, C Zhou, DS Manoli, BS Baker</b>   \n",
       "8  CC Robinett, <b>AG Vaughan, JM Knapp, BS Baker...   \n",
       "9  G Zimmermann, L Wang, <b>AG Vaughan, DS Manoli...   \n",
       "\n",
       "                                               venue  \\\n",
       "0           <i>US Patent App. PCT/US2020/066,853</i>   \n",
       "1  <i>PLoS computational biology 17 (3), e1008256...   \n",
       "2               <i>Nature 576 (7787), 446-451 75</i>   \n",
       "3                <i>Neuron 98 (5), 905-917. e541</i>   \n",
       "4       <i>Nature Communications 8 (1), 1-10 104</i>   \n",
       "5                   <i>Neuron 92 (4), 888-901 22</i>   \n",
       "6                          <i>Elife 4, e08477 68</i>   \n",
       "7       <i>Current Biology 24 (10), 1039-1049 68</i>   \n",
       "8            <i>PLoS biology 8 (5), e1000365 193</i>   \n",
       "9                    <i>PloS one 4 (4), e5100 27</i>   \n",
       "\n",
       "                                            url_slug  \\\n",
       "0  Mixseq: mixture sequencing using compressed se...   \n",
       "1  Barcode demixing through non-negative spatial ...   \n",
       "2  Frontal cortex neuron types categorically enco...   \n",
       "3  A viral receptor complementation strategy to o...   \n",
       "4  Rapid and tunable method to temporally control...   \n",
       "5  A mechanosensory circuit that mixes opponent c...   \n",
       "6  Central neural circuitry mediating courtship s...   \n",
       "7  Neural pathways for the detection and discrimi...   \n",
       "8  Sex and the single cell. II. There is a time a...   \n",
       "9  Manipulation of an innate escape response in D...   \n",
       "\n",
       "                                           paper_url  \n",
       "0  http://agvaughan.github.io/files/Vaughan_MIXSE...  \n",
       "1  http://agvaughan.github.io/files/Chen_Vaughan_...  \n",
       "2  http://agvaughan.github.io/files/Hirokawa_Vaug...  \n",
       "3  http://agvaughan.github.io/files/Li_Vaughan_St...  \n",
       "4  http://agvaughan.github.io/files/Senturk_2016.pdf  \n",
       "5  http://agvaughan.github.io/files/Chang_Vaughan...  \n",
       "6     http://agvaughan.github.io/files/Zhou_2016.pdf  \n",
       "7  http://agvaughan.github.io/files/Vaughan_2014.pdf  \n",
       "8  http://agvaughan.github.io/files/Robinett_Vaug...  \n",
       "9     http://agvaughan.github.io/files/Zimmerman.pdf  "
      ]
     },
     "execution_count": 28,
     "metadata": {},
     "output_type": "execute_result"
    }
   ],
   "source": [
    "publications = pd.read_csv(\"publications.tsv\", sep=\"\\t\", header=0)\n",
    "publications\n"
   ]
  },
  {
   "cell_type": "markdown",
   "metadata": {},
   "source": [
    "## Escape special characters\n",
    "\n",
    "YAML is very picky about how it takes a valid string, so we are replacing single and double quotes (and ampersands) with their HTML encoded equivilents. This makes them look not so readable in raw format, but they are parsed and rendered nicely."
   ]
  },
  {
   "cell_type": "code",
   "execution_count": 29,
   "metadata": {
    "deletable": true,
    "editable": true,
    "tags": []
   },
   "outputs": [],
   "source": [
    "html_escape_table = {\n",
    "    \"&\": \"&amp;\",\n",
    "    '\"': \"&quot;\",\n",
    "    \"'\": \"&apos;\"\n",
    "    }\n",
    "\n",
    "def html_escape(text):\n",
    "    \"\"\"Produce entities within text.\"\"\"\n",
    "    return \"\".join(html_escape_table.get(c,c) for c in text)"
   ]
  },
  {
   "cell_type": "markdown",
   "metadata": {},
   "source": [
    "## Creating the markdown files\n",
    "\n",
    "This is where the heavy lifting is done. This loops through all the rows in the TSV dataframe, then starts to concatentate a big string (```md```) that contains the markdown for each type. It does the YAML metadata first, then does the description for the individual page."
   ]
  },
  {
   "cell_type": "code",
   "execution_count": 31,
   "metadata": {
    "collapsed": false,
    "deletable": true,
    "editable": true,
    "jupyter": {
     "outputs_hidden": false
    }
   },
   "outputs": [
    {
     "name": "stdout",
     "output_type": "stream",
     "text": [
      "pub_date                                            2021-01-01\n",
      "title        Mixseq: mixture sequencing using compressed se...\n",
      "citation                           AM Zador, <b>AG Vaughan</b>\n",
      "venue                 <i>US Patent App. PCT/US2020/066,853</i>\n",
      "url_slug     Mixseq: mixture sequencing using compressed se...\n",
      "paper_url    http://agvaughan.github.io/files/Vaughan_MIXSE...\n",
      "Name: 0, dtype: object\n",
      "pub_date                                            2021-01-01\n",
      "title        Barcode demixing through non-negative spatial ...\n",
      "citation     S Chen, J Loper, X Chen, <b>AG Vaughan, AM Zad...\n",
      "venue        <i>PLoS computational biology 17 (3), e1008256...\n",
      "url_slug     Barcode demixing through non-negative spatial ...\n",
      "paper_url    http://agvaughan.github.io/files/Chen_Vaughan_...\n",
      "Name: 1, dtype: object\n",
      "pub_date                                            2019-01-01\n",
      "title        Frontal cortex neuron types categorically enco...\n",
      "citation     J Hirokawa, <b>AG Vaughan, P Masset, T Ott, A ...\n",
      "venue                     <i>Nature 576 (7787), 446-451 75</i>\n",
      "url_slug     Frontal cortex neuron types categorically enco...\n",
      "paper_url    http://agvaughan.github.io/files/Hirokawa_Vaug...\n",
      "Name: 2, dtype: object\n",
      "pub_date                                            2018-01-01\n",
      "title        A viral receptor complementation strategy to o...\n",
      "citation       SJ Li, <b>AG Vaughan, JF Sturgill, A Kepecs</b>\n",
      "venue                      <i>Neuron 98 (5), 905-917. e541</i>\n",
      "url_slug     A viral receptor complementation strategy to o...\n",
      "paper_url    http://agvaughan.github.io/files/Li_Vaughan_St...\n",
      "Name: 3, dtype: object\n",
      "pub_date                                            2017-01-01\n",
      "title        Rapid and tunable method to temporally control...\n",
      "citation     S Senturk, NH Shirole, DG Nowak, V Corbo, D Pa...\n",
      "venue             <i>Nature Communications 8 (1), 1-10 104</i>\n",
      "url_slug     Rapid and tunable method to temporally control...\n",
      "paper_url    http://agvaughan.github.io/files/Senturk_2016.pdf\n",
      "Name: 4, dtype: object\n",
      "pub_date                                            2016-01-01\n",
      "title        A mechanosensory circuit that mixes opponent c...\n",
      "citation               AEB Chang, <b>AG Vaughan, RI Wilson</b>\n",
      "venue                         <i>Neuron 92 (4), 888-901 22</i>\n",
      "url_slug     A mechanosensory circuit that mixes opponent c...\n",
      "paper_url    http://agvaughan.github.io/files/Chang_Vaughan...\n",
      "Name: 5, dtype: object\n",
      "pub_date                                            2015-01-01\n",
      "title        Central neural circuitry mediating courtship s...\n",
      "citation     C Zhou, R Franconville, <b>AG Vaughan, CC Robi...\n",
      "venue                                <i>Elife 4, e08477 68</i>\n",
      "url_slug     Central neural circuitry mediating courtship s...\n",
      "paper_url       http://agvaughan.github.io/files/Zhou_2016.pdf\n",
      "Name: 6, dtype: object\n",
      "pub_date                                            2014-01-01\n",
      "title        Neural pathways for the detection and discrimi...\n",
      "citation        <b>AG Vaughan, C Zhou, DS Manoli, BS Baker</b>\n",
      "venue             <i>Current Biology 24 (10), 1039-1049 68</i>\n",
      "url_slug     Neural pathways for the detection and discrimi...\n",
      "paper_url    http://agvaughan.github.io/files/Vaughan_2014.pdf\n",
      "Name: 7, dtype: object\n",
      "pub_date                                            2010-01-01\n",
      "title        Sex and the single cell. II. There is a time a...\n",
      "citation     CC Robinett, <b>AG Vaughan, JM Knapp, BS Baker...\n",
      "venue                  <i>PLoS biology 8 (5), e1000365 193</i>\n",
      "url_slug     Sex and the single cell. II. There is a time a...\n",
      "paper_url    http://agvaughan.github.io/files/Robinett_Vaug...\n",
      "Name: 8, dtype: object\n",
      "pub_date                                            2009-01-01\n",
      "title        Manipulation of an innate escape response in D...\n",
      "citation     G Zimmermann, L Wang, <b>AG Vaughan, DS Manoli...\n",
      "venue                          <i>PloS one 4 (4), e5100 27</i>\n",
      "url_slug     Manipulation of an innate escape response in D...\n",
      "paper_url       http://agvaughan.github.io/files/Zimmerman.pdf\n",
      "Name: 9, dtype: object\n"
     ]
    }
   ],
   "source": [
    "import os\n",
    "for row, item in publications.iterrows():\n",
    "    print(item)\n",
    "    \n",
    "    md_filename = str(item.pub_date) + \"-\" + item.url_slug + \".md\"\n",
    "    html_filename = str(item.pub_date) + \"-\" + item.url_slug\n",
    "    year = str(item.pub_date)[:4]\n",
    "    \n",
    "    ## YAML variables\n",
    "    \n",
    "    md = \"---\\ntitle: \\\"\"   + item.title + '\"\\n'\n",
    "    \n",
    "    md += \"\"\"collection: publications\"\"\"\n",
    "    \n",
    "    md += \"\"\"\\npermalink: /publication/\"\"\" + html_filename\n",
    "    \n",
    "    # if len(str(item.excerpt)) > 5:\n",
    "    #     md += \"\\nexcerpt: '\" + html_escape(item.excerpt) + \"'\"\n",
    "    \n",
    "    md += \"\\ndate: \" + str(item.pub_date) \n",
    "    \n",
    "    md += \"\\nvenue: '\" + html_escape(item.venue) + \"'\"\n",
    "    \n",
    "    if len(str(item.paper_url)) > 5:\n",
    "        md += \"\\npaperurl: '\" + item.paper_url + \"'\"\n",
    "    \n",
    "    md += \"\\ncitation: '\" + html_escape(item.citation) + \"'\"\n",
    "    \n",
    "    md += \"\\n---\"\n",
    "    \n",
    "    ## Markdown description for individual page\n",
    "        \n",
    "    # if len(str(item.excerpt)) > 5:\n",
    "    #     md += \"\\n\" + html_escape(item.excerpt) + \"\\n\"\n",
    "    \n",
    "    if len(str(item.paper_url)) > 5:\n",
    "        md += \"\\n[Download paper here](\" + item.paper_url + \")\\n\" \n",
    "        \n",
    "    md += \"\\nRecommended citation: \" + item.citation\n",
    "    \n",
    "    md_filename = os.path.basename(md_filename)\n",
    "       \n",
    "    with open(\"../_publications/\" + md_filename, 'w') as f:\n",
    "        f.write(md)"
   ]
  },
  {
   "cell_type": "markdown",
   "metadata": {},
   "source": [
    "These files are in the publications directory, one directory below where we're working from."
   ]
  },
  {
   "cell_type": "code",
   "execution_count": 20,
   "metadata": {
    "collapsed": false,
    "deletable": true,
    "editable": true,
    "jupyter": {
     "outputs_hidden": false
    }
   },
   "outputs": [
    {
     "name": "stdout",
     "output_type": "stream",
     "text": [
      "2009-01-01-Manipulation of an innate escape response in Drosophila: photoexcitation of acj6 neurons induces the escape response.md\n",
      "2010-01-01-Sex and the single cell. II. There is a time and place for sex.md\n",
      "2014-01-01-Neural pathways for the detection and discrimination of conspecific song in D. melanogaster.md\n",
      "2015-01-01-Central neural circuitry mediating courtship song perception in male Drosophila.md\n",
      "2016-01-01-A mechanosensory circuit that mixes opponent channels to produce selectivity for complex stimulus features.md\n",
      "2017-01-01-Rapid and tunable method to temporally control gene editing based on conditional Cas9 stabilization.md\n",
      "2018-01-01-A viral receptor complementation strategy to overcome CAV-2 tropism for efficient retrograde targeting of neurons.md\n",
      "2019-01-01-Frontal cortex neuron types categorically encode single decision variables (Nature).md\n",
      "2021-01-01-Barcode demixing through non-negative spatial regression (bardensr).md\n",
      "2021-01-01-Mixseq: mixture sequencing using compressed sensing for in-situ and in-vitro applications (Patent).md\n"
     ]
    }
   ],
   "source": [
    "!ls ../_publications/"
   ]
  },
  {
   "cell_type": "code",
   "execution_count": 21,
   "metadata": {
    "collapsed": false,
    "deletable": true,
    "editable": true,
    "jupyter": {
     "outputs_hidden": false
    }
   },
   "outputs": [
    {
     "name": "stdout",
     "output_type": "stream",
     "text": [
      "cat: ../_publications/2009-10-01-paper-title-number-1.md: No such file or directory\n"
     ]
    }
   ],
   "source": [
    "!cat ../_publications/2009-10-01-paper-title-number-1.md"
   ]
  },
  {
   "cell_type": "code",
   "execution_count": null,
   "metadata": {
    "collapsed": true,
    "deletable": true,
    "editable": true,
    "jupyter": {
     "outputs_hidden": true
    }
   },
   "outputs": [],
   "source": []
  }
 ],
 "metadata": {
  "kernelspec": {
   "display_name": "Python 3",
   "language": "python",
   "name": "python3"
  },
  "language_info": {
   "codemirror_mode": {
    "name": "ipython",
    "version": 3
   },
   "file_extension": ".py",
   "mimetype": "text/x-python",
   "name": "python",
   "nbconvert_exporter": "python",
   "pygments_lexer": "ipython3",
   "version": "3.8.11"
  }
 },
 "nbformat": 4,
 "nbformat_minor": 4
}
